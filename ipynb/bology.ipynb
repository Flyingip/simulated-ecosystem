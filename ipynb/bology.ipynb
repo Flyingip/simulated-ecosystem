{
 "cells": [
  {
   "cell_type": "markdown",
   "id": "c5745a6a-e519-4535-a20e-747a6d171af1",
   "metadata": {},
   "source": [
    "全局变量：\n",
    "        #生长：\n",
    "        \n",
    "        存储能量比率：energystorage=100％\n",
    "        能量消耗速度：speed=1时，energyrate=/time   speed=2时，energyrate=/time  呈平方递推  （需要一个基准物种）\n",
    "        饥饿比率：hungrynum=30％"
   ]
  },
  {
   "cell_type": "markdown",
   "id": "716a7f7e-3d25-4d07-86b3-a462b2aac7be",
   "metadata": {},
   "source": [
    "生长：\n",
    "        给生物自身设置一个时间表，记录其经历的刷新次数，通过刷新次数决定，每次从食物中扣除多少用以自身生长。\n",
    "        大概24刷新的时间进行一次捕食\n",
    "        100次刷新成长一岁\n",
    "        正常年纪的30％为成年期\n",
    "        前百分之30：energy=-500/(9*(t^2))*(x^2)+100/(3*t)*x+1\n",
    "        后百分之70：energy=-500/(49*(t^2))*(x^2)+300/(49*t)*x+249/49\n",
    "        假设成年体重是幼年体中的六倍\n",
    "        幼年能量记为authenweight\n",
    "        各年龄能量呈正态分布，方差为0.25authenweight\n",
    "        \n",
    "捕食：\n",
    "        捕食对象的能量含量：preyenergy\n",
    "\n",
    "运动：\n",
    "        饥饿状态下的运动是先找到运动方向，再朝着这个方向一直运动"
   ]
  },
  {
   "cell_type": "code",
   "execution_count": 197,
   "id": "3239f097-7871-49c1-8756-d3d25e3259c4",
   "metadata": {},
   "outputs": [],
   "source": [
    "import numpy as np\n",
    "import math"
   ]
  },
  {
   "cell_type": "code",
   "execution_count": null,
   "id": "7b4857a1-3f9c-4799-a4b3-bb645fc9e3fc",
   "metadata": {},
   "outputs": [
    {
     "ename": "",
     "evalue": "",
     "output_type": "error",
     "traceback": [
      "\u001b[1;31m运行具有“base”的单元格需要ipykernel包。\n",
      "\u001b[1;31mRun the following command to install 'ipykernel' into the Python environment. \n",
      "\u001b[1;31mCommand: 'conda install -n base ipykernel --update-deps --force-reinstall'"
     ]
    }
   ],
   "source": [
    "class biology:\n",
    "    def __init__(self,speed,visibility,age,ageaverage,authenweight,energyweight,energystorage,setting):#分别代表生物的运动能力，感知范围，年龄,寿命,幼年体重,\n",
    "        #，初始体重，初始储存能量,初始位置\n",
    "        self.no_is=1  #存活判定\n",
    "        self.speed=speed\n",
    "        self.visibility=visibility\n",
    "        self.age=float(age)\n",
    "        self.ageaverage=ageaverage\n",
    "        self.authenweight=authenweight\n",
    "        self.energyweight=energyweight\n",
    "        self.energystorage=energystorage\n",
    "        self.setting=setting\n",
    "        self.hungry=1#是否饥饿\n",
    "        self.seekis=0#是否开始寻找\n",
    "        \n",
    "    def timemaker(self):\n",
    "        self.time=self.age*100\n",
    "        self.time=self.time+1\n",
    "        self.age=self.time/100\n",
    "        \n",
    "\n",
    "    def age_energy_maker(self):#生长过程\n",
    "        if self.age<=self.ageaverage*0.3:\n",
    "            weightaverage=(-500/(9*(self.ageaverage**2))*(self.age**2)+100/(3*self.ageaverage)*self.age+1)*self.authenweight\n",
    "        elif (self.age>self.ageaverage*0.3) & (self.age<self.ageaverage):\n",
    "            weightaverage=(-500/(49*(self.ageaverage**2))*(self.age**2)+300/(49*self.ageaverage)*self.age+249/49)*self.authenweight\n",
    "        else:\n",
    "            self.no_is=0\n",
    "            weightaverage=self.authenweight\n",
    "        result = np.random.normal(weightaverage, 0.25*self.authenweight, 1)\n",
    "        a=self.energyweight\n",
    "        self.energyweight=result[0]\n",
    "        self.energystorage=self.energystorage-(self.energyweight-a)\n",
    "\n",
    "    def walk(self):#饱食状态下的运动过程\n",
    "        b=[]\n",
    "        for i in range(self.setting[0]-self.speed,self.setting[0]+self.speed+1):\n",
    "            for j in range(self.setting[1]-self.speed,self.setting[1]+self.speed+1):\n",
    "                a=((i-self.setting[0])**2+(j-self.setting[1])**2)**(0.5)\n",
    "                if a<=self.speed:\n",
    "                    b.append([i,j])\n",
    "        c=np.random.randint(0,len(b))\n",
    "        self.setting=b[c]\n",
    "\n",
    "    def seekfor(self):#刚开始饥饿运动时，要先确定寻找的方向\n",
    "        b=[]\n",
    "        for i in range(self.setting[0]-self.speed,self.setting[0]+self.speed+1):\n",
    "            for j in range(self.setting[1]-self.speed,self.setting[1]+self.speed+1):\n",
    "                a=((i-self.setting[0])**2+(j-self.setting[1])**2)**(0.5)\n",
    "                if a<=self.speed:\n",
    "                    b.append([i,j])\n",
    "        c=np.random.randint(0,len(b))\n",
    "        if b[c]==self.setting:\n",
    "            self.seekfor()\n",
    "        else:\n",
    "            print(((b[c][0]-self.setting[0])**2+(b[c][1]-self.setting[1])**2)**(0.5))\n",
    "            x=math.floor(((b[c][0]-self.setting[0])/(((b[c][0]-self.setting[0])**2+(b[c][1]-self.setting[1])**2)**(0.5)))*self.speed)\n",
    "            y=math.floor(((b[c][1]-self.setting[1])/(((b[c][0]-self.setting[0])**2+(b[c][1]-self.setting[1])**2)**(0.5)))*self.speed)\n",
    "            return x,y\n",
    "\n",
    "    def seek(self):#饥饿状态下的觅食运动\n",
    "        if (self.hungry==1) & (self.seekis==0):\n",
    "            self.x,self.y=self.seekfor()\n",
    "            seekis=1\n",
    "        self.setting[0]+=self.x\n",
    "        self.setting[1]+=self.y\n",
    "            \n",
    "        \n",
    "    def growth(self):#生物的生长过程\n",
    "        pass\n",
    "        "
   ]
  },
  {
   "cell_type": "code",
   "execution_count": 228,
   "id": "a11ce036-9ef8-4a85-b18a-eff90dd89cb1",
   "metadata": {},
   "outputs": [],
   "source": [
    "a=biology(1,2,1,100,1,1,1,[6,6])\n",
    "\n",
    "\n"
   ]
  },
  {
   "cell_type": "code",
   "execution_count": 230,
   "id": "510ea806-32eb-43b3-9654-97a977fcadcc",
   "metadata": {
    "scrolled": true
   },
   "outputs": [
    {
     "name": "stdout",
     "output_type": "stream",
     "text": [
      "1.0\n"
     ]
    },
    {
     "ename": "TypeError",
     "evalue": "cannot unpack non-iterable NoneType object",
     "output_type": "error",
     "traceback": [
      "\u001b[1;31m---------------------------------------------------------------------------\u001b[0m",
      "\u001b[1;31mTypeError\u001b[0m                                 Traceback (most recent call last)",
      "Cell \u001b[1;32mIn[230], line 3\u001b[0m\n\u001b[0;32m      1\u001b[0m a\u001b[38;5;241m.\u001b[39mtimemaker()\n\u001b[0;32m      2\u001b[0m a\u001b[38;5;241m.\u001b[39mage_energy_maker()\n\u001b[1;32m----> 3\u001b[0m \u001b[43ma\u001b[49m\u001b[38;5;241;43m.\u001b[39;49m\u001b[43mseek\u001b[49m\u001b[43m(\u001b[49m\u001b[43m)\u001b[49m\n\u001b[0;32m      4\u001b[0m \u001b[38;5;28mprint\u001b[39m(a\u001b[38;5;241m.\u001b[39menergyweight)\n\u001b[0;32m      5\u001b[0m \u001b[38;5;28mprint\u001b[39m(a\u001b[38;5;241m.\u001b[39menergystorage)\n",
      "Cell \u001b[1;32mIn[227], line 63\u001b[0m, in \u001b[0;36mbiology.seek\u001b[1;34m(self)\u001b[0m\n\u001b[0;32m     61\u001b[0m \u001b[38;5;28;01mdef\u001b[39;00m \u001b[38;5;21mseek\u001b[39m(\u001b[38;5;28mself\u001b[39m):\u001b[38;5;66;03m#饥饿状态下的觅食运动\u001b[39;00m\n\u001b[0;32m     62\u001b[0m     \u001b[38;5;28;01mif\u001b[39;00m (\u001b[38;5;28mself\u001b[39m\u001b[38;5;241m.\u001b[39mhungry\u001b[38;5;241m==\u001b[39m\u001b[38;5;241m1\u001b[39m) \u001b[38;5;241m&\u001b[39m (\u001b[38;5;28mself\u001b[39m\u001b[38;5;241m.\u001b[39mseekis\u001b[38;5;241m==\u001b[39m\u001b[38;5;241m0\u001b[39m):\n\u001b[1;32m---> 63\u001b[0m         \u001b[38;5;28mself\u001b[39m\u001b[38;5;241m.\u001b[39mx,\u001b[38;5;28mself\u001b[39m\u001b[38;5;241m.\u001b[39my\u001b[38;5;241m=\u001b[39m\u001b[38;5;28mself\u001b[39m\u001b[38;5;241m.\u001b[39mseekfor()\n\u001b[0;32m     64\u001b[0m         seekis\u001b[38;5;241m=\u001b[39m\u001b[38;5;241m1\u001b[39m\n\u001b[0;32m     65\u001b[0m     \u001b[38;5;28mself\u001b[39m\u001b[38;5;241m.\u001b[39msetting[\u001b[38;5;241m0\u001b[39m]\u001b[38;5;241m+\u001b[39m\u001b[38;5;241m=\u001b[39m\u001b[38;5;28mself\u001b[39m\u001b[38;5;241m.\u001b[39mx\n",
      "\u001b[1;31mTypeError\u001b[0m: cannot unpack non-iterable NoneType object"
     ]
    }
   ],
   "source": [
    "\n",
    "a.timemaker()\n",
    "a.age_energy_maker()\n",
    "a.seek()\n",
    "print(a.energyweight)\n",
    "print(a.energystorage)\n",
    "print(a.age)\n",
    "print(a.setting)"
   ]
  },
  {
   "cell_type": "code",
   "execution_count": 129,
   "id": "4dad70fa-7ec4-442d-866b-4195fe58f9c8",
   "metadata": {},
   "outputs": [
    {
     "name": "stdout",
     "output_type": "stream",
     "text": [
      "1\n",
      "2\n",
      "3\n"
     ]
    }
   ],
   "source": [
    "for i in range (1,4):\n",
    "    print(i)"
   ]
  },
  {
   "cell_type": "code",
   "execution_count": 152,
   "id": "856538a8-7e4b-4134-b90f-98562cdf6aba",
   "metadata": {
    "scrolled": true
   },
   "outputs": [
    {
     "name": "stdout",
     "output_type": "stream",
     "text": [
      "2\n"
     ]
    }
   ],
   "source": [
    "print(len([[1,23],[1,2]]))"
   ]
  },
  {
   "cell_type": "code",
   "execution_count": null,
   "id": "f88bf9e9-beb2-44f1-854c-fffd39f85a5c",
   "metadata": {},
   "outputs": [],
   "source": []
  }
 ],
 "metadata": {
  "kernelspec": {
   "display_name": "Python 3 (ipykernel)",
   "language": "python",
   "name": "python3"
  },
  "language_info": {
   "codemirror_mode": {
    "name": "ipython",
    "version": 3
   },
   "file_extension": ".py",
   "mimetype": "text/x-python",
   "name": "python",
   "nbconvert_exporter": "python",
   "pygments_lexer": "ipython3",
   "version": "3.11.4"
  }
 },
 "nbformat": 4,
 "nbformat_minor": 5
}
